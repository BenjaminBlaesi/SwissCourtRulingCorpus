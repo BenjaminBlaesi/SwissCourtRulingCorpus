{
 "cells": [
  {
   "cell_type": "markdown",
   "metadata": {},
   "source": [
    "Inspiration: https://towardsdatascience.com/the-best-document-similarity-algorithm-in-2020-a-beginners-guide-a01b9ef8cf05\n",
    "\n",
    "This notebook describes the dataset and gets useful insights from it:\n",
    "- similarity between different courts\n",
    "- similarity to other text corpora like Wikipedia, CS Arxiv or News Corpora, German Court Decisions (openlegaldata)\n",
    "\n",
    "How to compute similarity with Sentence BERT:\n",
    "1. Sentence BERT to encode each sentence => sentence embedding\n",
    "2. Average sentence embeddings of a document => document embedding\n",
    "3.\n",
    "    a) pairwise similarity of documents (one from each corpus)\n",
    "    b) average document embeddings => corpus embedding\n",
    "    => cosine similarity between corpus embeddings\n",
    "\n",
    "Disclaimer: These aggregations of embeddings do not work very well apparently\n",
    "\n",
    "TODO publish these notebooks as medium posts!"
   ]
  },
  {
   "cell_type": "code",
   "execution_count": 47,
   "metadata": {},
   "outputs": [
    {
     "name": "stdout",
     "output_type": "stream",
     "text": [
      "Collecting de-core-news-md==3.0.0\n",
      "  Downloading https://github.com/explosion/spacy-models/releases/download/de_core_news_md-3.0.0/de_core_news_md-3.0.0-py3-none-any.whl (49.6 MB)\n",
      "\u001b[K     |████████████████████████████████| 49.6 MB 4.6 kB/s  eta 0:00:01\n",
      "\u001b[?25hRequirement already satisfied: spacy<3.1.0,>=3.0.0 in /home/fdn-admin/miniconda3/envs/scrc/lib/python3.8/site-packages (from de-core-news-md==3.0.0) (3.0.0)\n",
      "Requirement already satisfied: packaging>=20.0 in /home/fdn-admin/miniconda3/envs/scrc/lib/python3.8/site-packages (from spacy<3.1.0,>=3.0.0->de-core-news-md==3.0.0) (20.9)\n",
      "Requirement already satisfied: numpy>=1.15.0 in /home/fdn-admin/miniconda3/envs/scrc/lib/python3.8/site-packages (from spacy<3.1.0,>=3.0.0->de-core-news-md==3.0.0) (1.19.2)\n",
      "Requirement already satisfied: murmurhash<1.1.0,>=0.28.0 in /home/fdn-admin/miniconda3/envs/scrc/lib/python3.8/site-packages (from spacy<3.1.0,>=3.0.0->de-core-news-md==3.0.0) (1.0.5)\n",
      "Requirement already satisfied: requests<3.0.0,>=2.13.0 in /home/fdn-admin/miniconda3/envs/scrc/lib/python3.8/site-packages (from spacy<3.1.0,>=3.0.0->de-core-news-md==3.0.0) (2.25.1)\n",
      "Requirement already satisfied: setuptools in /home/fdn-admin/miniconda3/envs/scrc/lib/python3.8/site-packages (from spacy<3.1.0,>=3.0.0->de-core-news-md==3.0.0) (52.0.0.post20210125)\n",
      "Requirement already satisfied: srsly<3.0.0,>=2.4.0 in /home/fdn-admin/miniconda3/envs/scrc/lib/python3.8/site-packages (from spacy<3.1.0,>=3.0.0->de-core-news-md==3.0.0) (2.4.0)\n",
      "Requirement already satisfied: cymem<2.1.0,>=2.0.2 in /home/fdn-admin/miniconda3/envs/scrc/lib/python3.8/site-packages (from spacy<3.1.0,>=3.0.0->de-core-news-md==3.0.0) (2.0.5)\n",
      "Requirement already satisfied: blis<0.8.0,>=0.4.0 in /home/fdn-admin/miniconda3/envs/scrc/lib/python3.8/site-packages (from spacy<3.1.0,>=3.0.0->de-core-news-md==3.0.0) (0.7.4)\n",
      "Requirement already satisfied: catalogue<2.1.0,>=2.0.1 in /home/fdn-admin/miniconda3/envs/scrc/lib/python3.8/site-packages (from spacy<3.1.0,>=3.0.0->de-core-news-md==3.0.0) (2.0.1)\n",
      "Requirement already satisfied: pydantic<1.8.0,>=1.7.1 in /home/fdn-admin/.local/lib/python3.8/site-packages (from spacy<3.1.0,>=3.0.0->de-core-news-md==3.0.0) (1.7.3)\n",
      "Requirement already satisfied: spacy-legacy<3.1.0,>=3.0.0 in /home/fdn-admin/miniconda3/envs/scrc/lib/python3.8/site-packages (from spacy<3.1.0,>=3.0.0->de-core-news-md==3.0.0) (3.0.1)\n",
      "Requirement already satisfied: thinc<8.1.0,>=8.0.0 in /home/fdn-admin/miniconda3/envs/scrc/lib/python3.8/site-packages (from spacy<3.1.0,>=3.0.0->de-core-news-md==3.0.0) (8.0.1)\n",
      "Requirement already satisfied: pathy in /home/fdn-admin/miniconda3/envs/scrc/lib/python3.8/site-packages (from spacy<3.1.0,>=3.0.0->de-core-news-md==3.0.0) (0.3.5)\n",
      "Requirement already satisfied: jinja2 in /home/fdn-admin/miniconda3/envs/scrc/lib/python3.8/site-packages (from spacy<3.1.0,>=3.0.0->de-core-news-md==3.0.0) (2.11.3)\n",
      "Requirement already satisfied: typer<0.4.0,>=0.3.0 in /home/fdn-admin/miniconda3/envs/scrc/lib/python3.8/site-packages (from spacy<3.1.0,>=3.0.0->de-core-news-md==3.0.0) (0.3.2)\n",
      "Requirement already satisfied: wasabi<1.1.0,>=0.8.1 in /home/fdn-admin/miniconda3/envs/scrc/lib/python3.8/site-packages (from spacy<3.1.0,>=3.0.0->de-core-news-md==3.0.0) (0.8.2)\n",
      "Requirement already satisfied: preshed<3.1.0,>=3.0.2 in /home/fdn-admin/miniconda3/envs/scrc/lib/python3.8/site-packages (from spacy<3.1.0,>=3.0.0->de-core-news-md==3.0.0) (3.0.5)\n",
      "Requirement already satisfied: tqdm<5.0.0,>=4.38.0 in /home/fdn-admin/miniconda3/envs/scrc/lib/python3.8/site-packages (from spacy<3.1.0,>=3.0.0->de-core-news-md==3.0.0) (4.56.0)\n",
      "Requirement already satisfied: pyparsing>=2.0.2 in /home/fdn-admin/miniconda3/envs/scrc/lib/python3.8/site-packages (from packaging>=20.0->spacy<3.1.0,>=3.0.0->de-core-news-md==3.0.0) (2.4.7)\n",
      "Requirement already satisfied: urllib3<1.27,>=1.21.1 in /home/fdn-admin/miniconda3/envs/scrc/lib/python3.8/site-packages (from requests<3.0.0,>=2.13.0->spacy<3.1.0,>=3.0.0->de-core-news-md==3.0.0) (1.26.3)\n",
      "Requirement already satisfied: chardet<5,>=3.0.2 in /home/fdn-admin/miniconda3/envs/scrc/lib/python3.8/site-packages (from requests<3.0.0,>=2.13.0->spacy<3.1.0,>=3.0.0->de-core-news-md==3.0.0) (3.0.4)\n",
      "Requirement already satisfied: certifi>=2017.4.17 in /home/fdn-admin/miniconda3/envs/scrc/lib/python3.8/site-packages (from requests<3.0.0,>=2.13.0->spacy<3.1.0,>=3.0.0->de-core-news-md==3.0.0) (2020.12.5)\n",
      "Requirement already satisfied: idna<3,>=2.5 in /home/fdn-admin/miniconda3/envs/scrc/lib/python3.8/site-packages (from requests<3.0.0,>=2.13.0->spacy<3.1.0,>=3.0.0->de-core-news-md==3.0.0) (2.10)\n",
      "Requirement already satisfied: click<7.2.0,>=7.1.1 in /home/fdn-admin/miniconda3/envs/scrc/lib/python3.8/site-packages (from typer<0.4.0,>=0.3.0->spacy<3.1.0,>=3.0.0->de-core-news-md==3.0.0) (7.1.2)\n",
      "Requirement already satisfied: MarkupSafe>=0.23 in /home/fdn-admin/miniconda3/envs/scrc/lib/python3.8/site-packages (from jinja2->spacy<3.1.0,>=3.0.0->de-core-news-md==3.0.0) (1.1.1)\n",
      "Requirement already satisfied: smart-open<4.0.0,>=2.2.0 in /home/fdn-admin/miniconda3/envs/scrc/lib/python3.8/site-packages (from pathy->spacy<3.1.0,>=3.0.0->de-core-news-md==3.0.0) (2.2.1)\n",
      "Requirement already satisfied: boto3 in /home/fdn-admin/miniconda3/envs/scrc/lib/python3.8/site-packages (from smart-open<4.0.0,>=2.2.0->pathy->spacy<3.1.0,>=3.0.0->de-core-news-md==3.0.0) (1.17.7)\n",
      "Requirement already satisfied: s3transfer<0.4.0,>=0.3.0 in /home/fdn-admin/miniconda3/envs/scrc/lib/python3.8/site-packages (from boto3->smart-open<4.0.0,>=2.2.0->pathy->spacy<3.1.0,>=3.0.0->de-core-news-md==3.0.0) (0.3.4)\n",
      "Requirement already satisfied: botocore<1.21.0,>=1.20.7 in /home/fdn-admin/miniconda3/envs/scrc/lib/python3.8/site-packages (from boto3->smart-open<4.0.0,>=2.2.0->pathy->spacy<3.1.0,>=3.0.0->de-core-news-md==3.0.0) (1.20.7)\n",
      "Requirement already satisfied: jmespath<1.0.0,>=0.7.1 in /home/fdn-admin/miniconda3/envs/scrc/lib/python3.8/site-packages (from boto3->smart-open<4.0.0,>=2.2.0->pathy->spacy<3.1.0,>=3.0.0->de-core-news-md==3.0.0) (0.10.0)\n",
      "Requirement already satisfied: python-dateutil<3.0.0,>=2.1 in /home/fdn-admin/miniconda3/envs/scrc/lib/python3.8/site-packages (from botocore<1.21.0,>=1.20.7->boto3->smart-open<4.0.0,>=2.2.0->pathy->spacy<3.1.0,>=3.0.0->de-core-news-md==3.0.0) (2.8.1)\n",
      "Requirement already satisfied: six>=1.5 in /home/fdn-admin/miniconda3/envs/scrc/lib/python3.8/site-packages (from python-dateutil<3.0.0,>=2.1->botocore<1.21.0,>=1.20.7->boto3->smart-open<4.0.0,>=2.2.0->pathy->spacy<3.1.0,>=3.0.0->de-core-news-md==3.0.0) (1.15.0)\n",
      "Installing collected packages: de-core-news-md\n",
      "Successfully installed de-core-news-md-3.0.0\n",
      "\u001b[38;5;2m✔ Download and installation successful\u001b[0m\n",
      "You can now load the package via spacy.load('de_core_news_md')\n"
     ]
    }
   ],
   "source": [
    "!python -m spacy download de_core_news_md # download spacy model"
   ]
  },
  {
   "cell_type": "code",
   "execution_count": 48,
   "metadata": {},
   "outputs": [
    {
     "name": "stdout",
     "output_type": "stream",
     "text": [
      "INFO: Pandarallel will run on 16 workers.\n",
      "INFO: Pandarallel will use Memory file system to transfer data between the main process and workers.\n"
     ]
    }
   ],
   "source": [
    "from pathlib import Path\n",
    "\n",
    "import numpy as np\n",
    "import pandas as pd\n",
    "import seaborn as sns\n",
    "import matplotlib.pyplot as plt\n",
    "from pandarallel import pandarallel\n",
    "pandarallel.initialize(progress_bar=True)\n",
    "import random\n",
    "from somajo import SoMaJo # German tokenizer\n",
    "tokenizer = SoMaJo(\"de_CMC\")\n",
    "\n",
    "import spacy\n",
    "import de_core_news_md\n",
    "# disable pipelines for faster processing since we only need the vectors\n",
    "nlp = de_core_news_md.load(disable=['tagger', 'parser', 'ner', 'lemmatizer', 'textcat']) "
   ]
  },
  {
   "cell_type": "code",
   "execution_count": 43,
   "metadata": {},
   "outputs": [
    {
     "name": "stdout",
     "output_type": "stream",
     "text": [
      "--2021-03-05 10:35:28--  https://int-emb-glove-de-wiki.s3.eu-central-1.amazonaws.com/vectors.txt\n",
      "Resolving int-emb-glove-de-wiki.s3.eu-central-1.amazonaws.com (int-emb-glove-de-wiki.s3.eu-central-1.amazonaws.com)... 52.219.47.60\n",
      "Connecting to int-emb-glove-de-wiki.s3.eu-central-1.amazonaws.com (int-emb-glove-de-wiki.s3.eu-central-1.amazonaws.com)|52.219.47.60|:443... connected.\n",
      "HTTP request sent, awaiting response... 200 OK\n",
      "Length: 3744610526 (3.5G) [text/plain]\n",
      "Saving to: ‘vectors.txt’\n",
      "\n",
      "vectors.txt         100%[===================>]   3.49G  22.7MB/s    in 2m 35s  \n",
      "\n",
      "2021-03-05 10:38:04 (23.1 MB/s) - ‘vectors.txt’ saved [3744610526/3744610526]\n",
      "\n"
     ]
    }
   ],
   "source": [
    "# downloading german glove word embeddings provided by deepset: https://deepset.ai/german-word-embeddings\n",
    "!wget https://int-emb-glove-de-wiki.s3.eu-central-1.amazonaws.com/vectors.txt"
   ]
  },
  {
   "cell_type": "code",
   "execution_count": 44,
   "metadata": {},
   "outputs": [
    {
     "name": "stdout",
     "output_type": "stream",
     "text": [
      "\u001b[38;5;4mℹ Creating blank nlp object for language 'de'\u001b[0m\n",
      "Reading vectors from vectors.txt\n",
      "1309281it [01:29, 14618.05it/s]\n",
      "Loaded vectors from vectors.txt\n",
      "\u001b[38;5;2m✔ Successfully converted 1309281 vectors\u001b[0m\n",
      "\u001b[38;5;2m✔ Saved nlp object with vectors to output directory. You can now use\n",
      "the path to it in your config as the 'vectors' setting in [initialize].\u001b[0m\n",
      "/tmp/de_vectors_deepset\n"
     ]
    }
   ],
   "source": [
    "# make blank pipeline\n",
    "!python -m spacy init vectors de vectors.txt /tmp/de_vectors_deepset"
   ]
  },
  {
   "cell_type": "code",
   "execution_count": 49,
   "metadata": {},
   "outputs": [],
   "source": [
    "spacy_vectors = spacy.load('/tmp/de_vectors_deepset')"
   ]
  },
  {
   "cell_type": "code",
   "execution_count": 3,
   "metadata": {},
   "outputs": [],
   "source": [
    "data_dir = Path('../../data')\n",
    "csv_dir = data_dir / 'csv'\n",
    "clean_csv_dir = csv_dir / 'clean'"
   ]
  },
  {
   "cell_type": "code",
   "execution_count": 61,
   "metadata": {},
   "outputs": [
    {
     "data": {
      "text/plain": [
       "PosixPath('../../data/csv/clean/_de.csv')"
      ]
     },
     "execution_count": 61,
     "metadata": {},
     "output_type": "execute_result"
    }
   ],
   "source": [
    "court_dir = clean_csv_dir / '_de.csv'\n",
    "court_dir"
   ]
  },
  {
   "cell_type": "code",
   "execution_count": null,
   "metadata": {},
   "outputs": [],
   "source": [
    "# select only small random subset for testing\n",
    "# keep the header, then take only 1% of lines\n",
    "# if random from [0,1] interval is greater than 0.01 the row will be skipped\n",
    "p = 0.001\n",
    "df = pd.read_csv(\n",
    "             court_dir,\n",
    "             header=0, \n",
    "             skiprows=lambda i: i>0 and random.random() > p\n",
    "    )"
   ]
  },
  {
   "cell_type": "code",
   "execution_count": null,
   "metadata": {},
   "outputs": [],
   "source": [
    "df.head()"
   ]
  },
  {
   "cell_type": "code",
   "execution_count": null,
   "metadata": {},
   "outputs": [],
   "source": [
    "bger_df = df[df['chamber'] == '']"
   ]
  },
  {
   "cell_type": "code",
   "execution_count": 50,
   "metadata": {},
   "outputs": [],
   "source": [
    "doc1 = spacy_vectors(df['text'].iloc[1])\n",
    "doc2 = spacy_vectors(df['text'].iloc[2])"
   ]
  },
  {
   "cell_type": "code",
   "execution_count": 54,
   "metadata": {},
   "outputs": [],
   "source": [
    "news_article = \"Die UBS passt ihre Gewinnzahlen für das abgelaufene Geschäftsjahr 2020 geringfügig nach unten an. So beträgt der Jahresgewinn nun 6.557 Milliarden Franken, wie die Grossbank in einer Mitteilung zur Veröffentlichung des Geschäftsberichtes mitteilte. CEO Ralph Hamers ist seit September in der Bank. Er erhielt 4.2 Millionen Franken. Sein Vorgänger Sergio Ermotti verdiente 2020 13.3 Millionen Franken. Das Ergebnis liegt 72 Millionen Franken unter dem Ende Januar bei der Veröffentlichung des Ergebnisses des vierten Quartals genannten Betrags, wie die Grossbank in einer Mitteilung zum Geschäftsbericht schreibt. Ralph Hamers, der am 1. September 2020 bei der UBS begonnen und das Amt des CEO am 1. November übernommen hat, erhielt insgesamt 4.2 Millionen Franken (siehe Tabelle unten). Zusätzlich leistete die Bank dem neuen Konzernchef eine einmalige Ersatzzahlung von 0.16 Millionen Franken.\"\n",
    "doc3 = spacy_vectors(news_article)"
   ]
  },
  {
   "cell_type": "code",
   "execution_count": 56,
   "metadata": {},
   "outputs": [],
   "source": [
    "short_text = \"Das Grundwasser ist aufgefüllt – dank des vielen Regens und Schnees. Das sind gute Aussichten für den Sommer.\"\n",
    "doc4 = spacy_vectors(short_text)"
   ]
  },
  {
   "cell_type": "code",
   "execution_count": 64,
   "metadata": {},
   "outputs": [],
   "source": [
    "twitter = \"Zur Amtszeit von Angela Merkel zählen übrigens die Verzehnfachung der Tafeln und die Verdreifachung der Sozialhilfeempfänger. Nur falls jemand noch eine Liste ihrer Erfolge machen möchte.\"\n",
    "doc5 = spacy_vectors(twitter)"
   ]
  },
  {
   "cell_type": "code",
   "execution_count": 65,
   "metadata": {},
   "outputs": [
    {
     "data": {
      "text/plain": [
       "0.969398834238912"
      ]
     },
     "execution_count": 65,
     "metadata": {},
     "output_type": "execute_result"
    }
   ],
   "source": [
    "doc1.similarity(doc5)"
   ]
  },
  {
   "cell_type": "code",
   "execution_count": 20,
   "metadata": {},
   "outputs": [
    {
     "name": "stdout",
     "output_type": "stream",
     "text": [
      "['RechtsprechungGericht / Verwaltung :ObergerichtAbteilung: Schuldbetreibungs- und KonkurskommissionRechtsgebiet : Schuldbetreibungs- und KonkursrechtEntscheiddatum : 15. 01. 1996 Fallnummer :O G 1996 42LGVE : 1996 I Nr. 42Leitsatz : Art .', '80 Abs. 2 SchKG ; § 110 Abs. 1 lit. e VRG ; §§ 18 , 24 , 27 und 28 Perimeterverordnung ( SRL Nr. 732 ) .', 'Eine Verfügung für Perimeterbeiträge bildet keinen definitiven Rechtsöffnungstitel , wenn sie keine Unterschrift aufweist und nicht mit einer Rechtsmittelbelehrung versehen ist .', 'Rechtskraft : Diese Entscheidung ist rechtskräftig .', 'Entscheid : Die Klägerin ( Strassengenossenschaft X. ) erliess eine Verfügung für Perimeterbeiträge an den Beklagten .', 'Nachdem dieser die Forderung nicht bezahlte , liess ihn die Klägerin betreiben .', 'Der Amtsgerichtspräsident lehnte das Gesuch der Klägerin um definitive Rechtsöffnung ab .', 'Er war zum Schluss gekommen , der Beklagte sei in der Beitragsverfügung nicht auf sein Einspracherecht hingewiesen worden , weshalb die Beitragsverfügung mangels korrekter Eröffnung nicht in Rechtskraft erwachsen sei .', 'Die SchKK des Obergerichts hat die dagegen eingereichte Nichtigkeitsbeschwerde abgewiesen .', 'Aus den Erwägungen : Schliesslich wendet sich die Klägerin mit ihrer Beschwerde gegen die Erwägungen der Vorinstanz , wonach die Beitragsverfügung der Klägerin mangels korrekter Eröffnung nicht in Rechtskraft erwachsen sei und es deshalb an einem gültigen Rechtsöffnungstitel mangle .', 'Es könne nicht die Meinung des Gesetzgebers sein , dass für alljährlich wiederkehrende Beiträge , die sich jährlich je nach Bedarf ändern könnten , rechtliche Beitragsverfügungen erlassen werden müssten .', 'Wie die Vorinstanz mit Hinweis auf §§ 18 , 24 Abs. 2 und 28 Abs. 2 PV ( Verordnung über Grundeigentümer Beiträge an öffentliche Werke [ Perimeterverordnung ] vom 16. Oktober 1969 , SRL Nr. 732 ) sowie gestützt auf einen Entscheid des Obergerichts ( Max. XI Nr. 776 ) zutreffend ausgeführt hat , stellt eine Beitragsverfügung nur dann einen Rechtsöffnungstitel dar , wenn die Verfügung nach den einschlägigen Verfahrensbestimmungen erlassen worden und in Rechtskraft erwachsen ist .', 'Zu einer korrekten Eröffnung der Verfügung gehört u. a. der Hinweis auf das ordentliche Rechtsmittel ( § 110 Abs. 1 lit. e VRG ) .', 'Entgegen der Auffassung der Klägerin gilt dies auch für Beitragsverfügungen , welche auch die Unterhalts und nicht nur die Baukosten eines öffentlichen Werkes betreffen .', 'Der Verordnungsgeber hat im Zusammenhang mit den Beiträgen an Bau , Betriebs und Unterhaltskosten eines öffentlichen Werkes von Genossenschaften ausdrücklich auch die allgemeinen Verfahrensvorschriften ( u. a. Beitragsverfügung und Rechtsmittel : § 24 PV ) als anwendbar erklärt ( § 27 PV ) .', 'Wie die Klägerin selber ausführt , handelt es sich bei den Beiträgen an die Unterhaltskosten um jährlich wiederkehrende Zahlungen , die nicht ein für allemal feststehen , sondern sich je nach Bedarf ändern können .', 'Die betroffenen Grundeigentümer müssen sich daher gegen die jeweiligen Beitragsverfügungen bzw. Rechnungen zur Wehr setzen können .', 'In einem allfälligen Rechtsmittelverfahren können allerdings nur noch Mängel im Zusammenhang mit der rechnerischen Festlegung des frankenmässigen Betrages ( vor allem Rechnungsfehler ) beanstandet werden .', 'Nicht mehr neu aufgerollt werden können dagegen grundsätzliche Fragen wie die Höhe der anteilsmässigen Beitragspflicht ( Teilerzahl ) .', 'Diese sind im vorhergehenden Verfahren bereits rechtskräftig entschieden worden ( vgl. LGVE 1974 II Nr. 18 , 1978 II Nr. 13 S. 47 ) .', 'Vorliegend steht unbestritten fest , dass die Beitragsverfügung bzw. Rechnung vom 22. Juni 1995 keine Unterschrift aufweist ( vgl. dazu LGVE 1975 II Nr. 19 S. 39 ) und auch nicht mit einer Rechtsmittelbelehrung versehen ist .', 'Dass diese Mängel anderweitig behoben worden sind , wird von der Klägerin nicht dargetan und ist den Akten auch nicht zu entnehmen .', 'Zu Recht hat der Amtsgerichtspräsident deshalb das Vorliegen eines gültigen Rechtsöffnungstitels im Sinne von Art .', '80 Abs. 2 SchKG verneint und das klägerische Gesuch abgewiesen .']\n"
     ]
    }
   ],
   "source": [
    "sents = tokenizer.tokenize_text([df['text'].iloc[0]])\n",
    "sentences = [\" \".join([token.text for token in sent]) for sent in sents]    \n",
    "print(sentences)"
   ]
  },
  {
   "cell_type": "code",
   "execution_count": null,
   "metadata": {},
   "outputs": [],
   "source": [
    "# Import library and load multilingual sts model\n",
    "from sentence_transformers import SentenceTransformer, util\n",
    "model = SentenceTransformer('stsb-xlm-r-multilingual')"
   ]
  },
  {
   "cell_type": "code",
   "execution_count": 41,
   "metadata": {},
   "outputs": [
    {
     "name": "stdout",
     "output_type": "stream",
     "text": [
      "CPU times: user 52.2 s, sys: 415 ms, total: 52.6 s\n",
      "Wall time: 4.4 s\n"
     ]
    },
    {
     "data": {
      "text/plain": [
       "array([ 3.62253599e-02,  3.62150788e-01,  6.24165475e-01,  3.52770723e-02,\n",
       "        2.53154427e-01,  1.21447854e-01,  3.86505276e-01, -4.16817933e-01,\n",
       "        6.59541562e-02, -2.25426808e-01, -1.03606731e-01,  5.64076364e-01,\n",
       "       -2.71009207e-02, -3.53103247e-03, -1.96921423e-01,  1.90958932e-01,\n",
       "        9.71556604e-02, -4.59400505e-01,  1.92318499e-01, -3.52056175e-01,\n",
       "       -3.02016214e-02, -1.43347442e-01,  3.68704915e-01,  3.28014016e-01,\n",
       "        1.80625141e-01,  8.37689415e-02,  1.72338054e-01,  2.09026456e-01,\n",
       "       -3.33660960e-01,  2.81649947e-01,  3.38599771e-01, -3.64035040e-01,\n",
       "       -4.38539863e-01, -2.67154843e-01,  2.20296010e-02,  3.23379636e-01,\n",
       "        2.56965965e-01, -2.56803352e-02, -1.79340407e-01, -2.47767959e-02,\n",
       "        1.34962857e-01,  2.16369197e-01, -3.83294262e-02, -1.06307762e-02,\n",
       "       -9.76707116e-02,  1.28304467e-01,  7.86920190e-02,  7.51289725e-03,\n",
       "       -3.60536367e-01,  4.38903004e-01, -3.74700986e-02,  1.32296041e-01,\n",
       "       -1.75871029e-01,  7.45429322e-02, -9.36586261e-02,  1.56572178e-01,\n",
       "       -4.76542324e-01, -7.30372131e-01, -1.42278969e-01, -1.94753304e-01,\n",
       "        1.50858656e-01, -3.05180967e-01,  5.12842178e-01,  1.24125719e-01,\n",
       "       -3.49900573e-01,  1.87765304e-02,  2.78984278e-01, -2.77342498e-02,\n",
       "       -1.40086442e-04, -4.21604723e-01,  2.87673861e-01, -2.74198502e-01,\n",
       "       -4.53630596e-01,  3.40753943e-01,  9.14723650e-02, -1.17108144e-01,\n",
       "       -3.70805967e-03,  2.49805316e-01, -1.62454888e-01,  3.36184353e-01,\n",
       "       -1.29729643e-01, -1.05264127e-01,  1.33106247e-01, -1.77085400e-01,\n",
       "        2.00404719e-01, -3.15404445e-01,  3.71572405e-01,  2.22364113e-01,\n",
       "       -5.78340948e-01,  3.75046253e-01,  2.04008460e-01, -1.10313058e-01,\n",
       "        7.19651505e-02, -2.99533010e-01,  2.58139595e-02, -2.70670801e-01,\n",
       "        1.89869121e-01, -9.92425680e-02,  3.08421105e-01,  2.59339422e-01,\n",
       "       -2.39243999e-01, -1.52443722e-01,  1.01570040e-01, -1.16580896e-01,\n",
       "        1.75365791e-01, -4.99054790e-02,  5.50662100e-01, -1.12204067e-01,\n",
       "       -6.47356093e-01,  8.67367983e-02,  1.57417372e-01, -1.33439034e-01,\n",
       "        3.38970751e-01, -3.67336392e-01, -7.23777190e-02, -2.58756608e-01,\n",
       "       -5.21038592e-01,  9.64393988e-02, -3.57044071e-01,  5.16216695e-01,\n",
       "        4.34140414e-01,  1.99961945e-01, -2.21422315e-02, -6.76255450e-02,\n",
       "        4.28651303e-01, -3.17818522e-01, -4.91300737e-03,  2.77322263e-01,\n",
       "       -4.87734556e-01,  1.46017730e-01,  1.89982519e-01, -1.08536981e-01,\n",
       "        3.69789690e-01, -1.51778892e-01, -5.20503640e-01,  4.20234688e-02,\n",
       "       -2.15686798e-01, -2.56835908e-01,  4.92105596e-02,  6.12249412e-02,\n",
       "       -8.69969353e-02, -1.86326087e-01,  1.15921982e-01, -2.78774291e-01,\n",
       "        6.99866936e-02, -2.72361338e-01,  6.69464827e-01,  1.70936927e-01,\n",
       "       -1.69035897e-01, -1.28415048e-01, -2.72078305e-01,  2.27149650e-01,\n",
       "       -5.64225256e-01, -1.28247701e-02, -1.92733988e-01,  1.30319476e-01,\n",
       "        1.72511712e-01,  3.63273263e-01, -3.30095738e-01,  2.54402965e-01,\n",
       "       -2.25648224e-01,  5.33104837e-02, -2.14564934e-01,  3.58512521e-01,\n",
       "        2.16003820e-01, -1.01496466e-01,  1.62493527e-01,  1.45431623e-01,\n",
       "        6.07134402e-02,  9.82808843e-02, -5.36801219e-02, -4.56144005e-01,\n",
       "        1.04298055e-01,  3.47401835e-02,  4.64331098e-02,  2.09406614e-01,\n",
       "        6.67263448e-01, -9.67856124e-02,  2.42235065e-01, -2.46800289e-01,\n",
       "        1.10770129e-01, -5.02172746e-02, -1.13103986e-01,  3.70757818e-01,\n",
       "        8.44452381e-02, -1.06087148e-01, -1.27608240e-01, -1.44350842e-01,\n",
       "        5.98178089e-01, -4.79904383e-01,  2.10973341e-02,  6.34939075e-02,\n",
       "        3.53236675e-01, -4.59972501e-01,  1.55276015e-01,  4.34811860e-01,\n",
       "       -2.93408066e-01,  3.49694222e-01, -3.12542170e-01,  1.39916301e-01,\n",
       "        4.09987599e-01,  3.28046858e-01, -3.10885068e-02, -3.52447107e-02,\n",
       "       -2.94593126e-01, -3.36779803e-02,  7.91135803e-02,  5.79501837e-02,\n",
       "       -6.76611438e-02, -3.22788775e-01,  3.10768336e-01,  3.98412079e-01,\n",
       "       -2.00404063e-01, -2.00164393e-01, -5.41407287e-01, -4.05924618e-02,\n",
       "        3.71898293e-01, -2.61659592e-01,  3.40592057e-01, -1.51265904e-01,\n",
       "        5.74902236e-01,  1.65490851e-01, -5.84166311e-02,  3.55186224e-01,\n",
       "       -2.00655032e-02, -3.14912908e-02,  9.13771149e-03, -7.65336677e-03,\n",
       "        2.44155705e-01, -2.44974922e-02, -1.60652056e-01, -1.31761819e-01,\n",
       "        2.40456745e-01, -4.56814528e-01,  5.46614289e-01,  7.36388341e-02,\n",
       "       -1.31109223e-01,  4.70234424e-01, -4.34868634e-02,  3.30280811e-02,\n",
       "       -1.73776094e-02,  7.25853145e-02,  2.52218723e-01, -8.38529095e-02,\n",
       "       -2.87774175e-01, -6.55136108e-02,  1.07346056e-02,  4.40234505e-02,\n",
       "       -2.63187289e-01,  9.84566286e-02, -2.89586872e-01, -6.00034259e-02,\n",
       "        1.43669680e-01, -4.85088639e-02, -7.96761457e-03, -1.24227367e-01,\n",
       "       -5.21969140e-01, -2.61142582e-01,  6.89030588e-02, -2.67009765e-01,\n",
       "        2.35065892e-01, -2.28470370e-01, -2.36788258e-01, -1.86162755e-01,\n",
       "       -1.43202558e-01, -3.57134968e-01,  2.31120273e-01,  2.38122210e-01,\n",
       "       -4.69300836e-01,  2.19453081e-01, -7.71153392e-03, -4.86047454e-02,\n",
       "       -1.18107617e-01,  2.52242610e-02, -4.28418070e-02,  9.22260582e-02,\n",
       "        4.12104368e-01, -2.37988293e-01, -2.23693848e-02,  2.28351757e-01,\n",
       "       -1.20935977e-01,  2.74815828e-01, -3.20920646e-01,  1.59324452e-01,\n",
       "        1.43938139e-01, -4.46573496e-02,  5.92473030e-01, -4.58259851e-01,\n",
       "       -4.40491587e-01,  3.03891689e-01, -5.03180981e-01,  4.28253144e-01,\n",
       "       -7.32318088e-02, -6.28613770e-01,  4.28324372e-01, -8.25196505e-02,\n",
       "        8.44842568e-02,  2.89359037e-02,  9.52454731e-02, -7.12137997e-01,\n",
       "       -1.95375517e-01, -3.59876424e-01, -7.61900768e-02,  3.72359395e-01,\n",
       "       -1.90265059e-01,  1.34685887e-02, -2.33143315e-01,  8.18193629e-02,\n",
       "       -8.75463486e-01, -6.34101808e-01, -5.39589226e-01, -1.19824208e-01,\n",
       "       -2.45836988e-01,  1.46459684e-01, -1.92179546e-01, -1.53366709e-02,\n",
       "        1.39901787e-01, -4.86577265e-02,  1.36843041e-01, -6.07861936e-01,\n",
       "        3.24139982e-01, -6.61855862e-02,  6.44015074e-02, -1.00340255e-01,\n",
       "       -1.69799984e-01,  2.03192815e-01, -1.90723315e-01,  1.60891507e-02,\n",
       "       -6.61659539e-02, -6.75859213e-01,  4.93339688e-01, -1.23581253e-01,\n",
       "        1.54930204e-01, -1.07525282e-01, -1.89409956e-01,  4.96004492e-01,\n",
       "       -1.74474165e-01, -3.41202408e-01,  1.88137993e-01, -3.76291037e-01,\n",
       "        1.09827168e-01, -1.33923635e-01, -9.25206169e-02, -8.93462896e-02,\n",
       "        4.01987672e-01, -2.85960495e-01, -4.99398373e-02, -5.25074303e-01,\n",
       "        1.41487136e-01, -2.55052656e-01, -1.02761485e-01,  1.54023707e-01,\n",
       "       -1.74676344e-01,  1.24705814e-01, -5.74573934e-01,  9.38673317e-02,\n",
       "        1.23884074e-01,  3.11141789e-01,  6.59138933e-02,  1.71882972e-01,\n",
       "       -6.93062320e-02, -6.97345361e-02, -5.46979070e-01,  6.98853657e-02,\n",
       "        3.44078898e-01, -1.74788367e-02, -2.97214985e-01,  3.22194666e-01,\n",
       "        7.83998296e-02, -4.89934921e-01, -2.12990060e-01, -1.76210120e-01,\n",
       "       -1.46249279e-01, -1.99674785e-01, -3.69788289e-01,  2.84855932e-01,\n",
       "        9.68603194e-02, -1.66879907e-01,  2.26280048e-01,  5.46483994e-01,\n",
       "       -1.81561306e-01, -4.38406020e-01, -1.60757512e-01, -4.64054108e-01,\n",
       "        4.55724262e-02, -1.02209829e-01, -2.71638304e-01,  1.44770309e-01,\n",
       "        2.48051956e-01, -2.29997262e-01,  1.08849846e-01,  2.59683818e-01,\n",
       "        3.81994724e-01,  4.06790227e-01,  3.88351917e-01, -2.40724072e-01,\n",
       "       -3.04922193e-01, -1.70067064e-02,  8.39892402e-02,  2.26200938e-01,\n",
       "       -2.19306901e-01,  2.96531975e-01,  7.49032497e-02, -5.02947390e-01,\n",
       "       -1.97920278e-01, -2.83518255e-01,  3.94600779e-01, -1.89214814e-02,\n",
       "        1.85557961e-01,  1.96609437e-01,  3.68234277e-01, -2.72325516e-01,\n",
       "       -1.21630527e-01,  1.39766857e-01, -6.58106208e-01, -4.41913009e-02,\n",
       "       -9.67453122e-02, -3.98931265e-01, -1.56430751e-01,  9.57493782e-02,\n",
       "        2.19120145e-01,  1.79187730e-01, -6.81773722e-02,  7.60532916e-02,\n",
       "       -3.13064814e-01, -1.58697769e-01,  6.61623850e-02, -1.85007706e-01,\n",
       "        2.64766186e-01, -2.94766933e-01,  1.81933239e-01, -2.70854563e-01,\n",
       "       -5.71397722e-01,  1.51112616e-01,  3.03710494e-02,  5.61948478e-01,\n",
       "       -3.48880082e-01,  2.25539550e-01,  9.27582979e-02,  1.19525343e-01,\n",
       "       -5.74890375e-02, -3.88359427e-01, -2.32437309e-02,  3.92227560e-01,\n",
       "        2.04296008e-01,  1.57654405e-01,  6.90627173e-02,  2.16404870e-01,\n",
       "        3.71006966e-01, -8.04096833e-02, -5.77331744e-02, -1.11236624e-01,\n",
       "       -9.66588632e-05, -2.73294896e-01,  3.31989944e-01,  2.17359900e-01,\n",
       "       -3.20998579e-01, -9.96225774e-02,  2.01547015e-02, -2.27560624e-01,\n",
       "        5.40834069e-02, -1.60779301e-02, -1.03246450e-01, -3.56228799e-01,\n",
       "       -3.02737564e-01,  2.10495055e-01,  2.78454632e-01, -3.07535142e-01,\n",
       "       -1.27525344e-01,  1.66177154e-01,  1.96213409e-01, -1.86272606e-01,\n",
       "       -2.44794354e-01,  8.28683004e-02, -1.26717299e-01, -1.05399422e-01,\n",
       "       -7.25539446e-01,  2.82287508e-01,  1.72047243e-01,  2.23685224e-02,\n",
       "       -1.54258683e-01, -1.69359669e-02,  2.67826051e-01, -3.54120880e-01,\n",
       "       -2.61883348e-01, -3.87122035e-01,  3.08224171e-01,  3.78181964e-01,\n",
       "        3.65561604e-01,  6.59354404e-02, -1.65142089e-01, -5.58961295e-02,\n",
       "       -2.91336570e-02, -7.75995433e-01, -2.66867597e-02,  1.95009727e-02,\n",
       "       -3.01944345e-01, -7.40126818e-02,  1.66223183e-01, -2.25948676e-01,\n",
       "        4.70113516e-01,  2.21996326e-02, -6.27476647e-02,  3.49208266e-01,\n",
       "        3.51434976e-01, -1.51156560e-01, -7.12406933e-01,  1.29007742e-01,\n",
       "       -2.28303894e-01,  6.97061494e-02, -4.76957768e-01, -1.89642385e-01,\n",
       "       -8.24130177e-02, -1.10284150e-01,  4.60956506e-02, -9.90441721e-03,\n",
       "        1.87521413e-01,  1.33819044e-01, -3.96189168e-02, -5.86447231e-02,\n",
       "       -4.61281210e-01,  4.29295540e-01,  2.19973132e-01, -6.18940771e-01,\n",
       "        1.04100466e-01,  2.88683683e-01, -1.74164757e-01, -1.66660219e-01,\n",
       "        5.85251033e-01, -9.00620818e-02,  3.90581727e-01,  1.40663296e-01,\n",
       "       -3.99047375e-01, -2.64301866e-01,  1.23184256e-01, -6.02138937e-02,\n",
       "       -2.45932594e-01,  3.18006814e-01, -1.15183763e-01, -5.76990604e-01,\n",
       "        4.34378497e-02, -1.77370906e-01,  2.01375917e-01, -7.51459179e-03,\n",
       "       -1.50709540e-01, -6.46945611e-02, -1.36343375e-01,  1.50280118e-01,\n",
       "       -5.12870908e-01,  1.61509290e-01, -1.09962702e-01,  5.64805754e-02,\n",
       "        1.55003771e-01, -3.95391852e-01, -4.83668856e-02, -2.43418977e-01,\n",
       "       -3.41612577e-01,  3.90858859e-01,  1.50011852e-02,  2.16637384e-02,\n",
       "        3.15452754e-01,  1.87544599e-01, -1.98323980e-01,  7.62996897e-02,\n",
       "        7.50382170e-02,  8.04608092e-02, -8.21099505e-02,  1.02759600e-01,\n",
       "       -4.68783937e-02, -1.36465877e-01,  2.27112189e-01, -6.10953271e-01,\n",
       "        9.07892510e-02,  8.63791630e-02, -2.31274784e-01, -2.28408873e-01,\n",
       "        4.08588886e-01, -3.98256928e-01,  1.11369878e-01, -2.48512611e-01,\n",
       "       -1.15633411e-02, -1.57048628e-01,  3.61582667e-01, -5.45420237e-02,\n",
       "       -2.91451782e-01, -2.07146630e-01,  5.92901289e-01, -8.30856115e-02,\n",
       "        4.80632968e-02, -3.75369281e-01, -2.94429153e-01, -2.38367319e-01,\n",
       "       -3.29086743e-02,  2.18069907e-02,  1.16113923e-01,  1.40466362e-01,\n",
       "       -3.39000314e-01,  1.01933509e-01, -1.33551016e-01,  2.01624200e-01,\n",
       "       -3.77618819e-01, -1.50307089e-01, -2.88507283e-01,  2.45996967e-01,\n",
       "       -1.19007707e-01,  2.10103154e-01,  1.99632603e-03, -1.12356432e-01,\n",
       "       -2.46972349e-02, -1.67112336e-01,  3.59366030e-01, -4.85283703e-01,\n",
       "       -4.99745347e-02,  1.68163085e-03, -4.02172089e-01, -3.84400368e-01,\n",
       "       -6.43789232e-01,  1.25857860e-01, -5.72247207e-02, -1.94193348e-01,\n",
       "        4.40540880e-01,  9.74178016e-02, -5.82382977e-02, -2.58331984e-01,\n",
       "       -1.76604725e-02, -3.41060966e-01, -1.56649902e-01, -3.24912667e-01,\n",
       "       -2.19320700e-01, -3.16256918e-02,  2.44678274e-01, -8.01966563e-02,\n",
       "        1.23861432e-01,  1.40721962e-01,  2.55389184e-01,  1.38040006e-01,\n",
       "       -3.90623361e-01,  6.02942109e-01,  1.95071518e-01,  1.16891265e-01,\n",
       "       -2.00573206e-01, -9.24443603e-02,  2.03293324e-01, -9.32370778e-03,\n",
       "        1.97551802e-01, -2.54774421e-01, -1.23066520e-02,  1.75774887e-01,\n",
       "       -1.36276141e-01, -4.48137522e-02,  6.47700205e-02,  2.25292102e-01,\n",
       "        1.80698112e-01,  1.64335221e-01, -1.52805820e-01,  1.52013078e-01,\n",
       "        1.46056041e-01,  2.78263777e-01,  1.95369840e-01,  1.92978099e-01,\n",
       "        3.73238325e-01,  2.15184450e-01,  6.34732842e-03,  4.86600101e-02,\n",
       "        3.03917825e-01, -4.46935557e-02,  1.35212973e-01, -1.55697763e-02,\n",
       "        2.11037233e-01,  1.06704617e-02, -1.48877865e-02, -3.26247662e-01,\n",
       "       -2.24332616e-01, -6.97666466e-01,  1.18788503e-01,  1.82183102e-01,\n",
       "        5.71876705e-01, -7.34502077e-02, -2.60045558e-01, -1.73871219e-01,\n",
       "       -8.41801763e-02,  1.85204908e-01,  2.05237105e-01, -1.20951213e-01,\n",
       "        3.99502844e-01, -7.91811049e-02, -1.04716502e-01,  6.92989081e-02,\n",
       "       -4.75149304e-02, -2.94730961e-02,  4.87787634e-01, -1.37915730e-01,\n",
       "       -4.12343949e-01, -4.74870175e-01,  2.97736406e-01, -8.56644735e-02,\n",
       "       -1.43850669e-01, -2.44996354e-01, -6.69626534e-01, -9.97121707e-02,\n",
       "       -1.37692079e-01,  2.95729101e-01, -1.04008920e-01,  1.50474250e-01,\n",
       "       -2.02723876e-01, -1.65670201e-01,  3.66836220e-01, -6.09150194e-02,\n",
       "        1.77027225e-01, -1.53142288e-01, -1.23262286e-01,  5.85687272e-02,\n",
       "        8.14486593e-02,  5.72561622e-02,  1.42864004e-01,  4.57101971e-01,\n",
       "        9.83923450e-02, -1.33204743e-01,  3.32377222e-03,  6.40296042e-02,\n",
       "        1.06191635e-02, -1.14350356e-01, -3.37687224e-01, -1.77966580e-01,\n",
       "        3.32977593e-01,  1.63615644e-01,  3.28515798e-01, -3.21971416e-01,\n",
       "        8.50191191e-02,  7.95265734e-02,  4.08602618e-02, -2.04322979e-01,\n",
       "        2.80247871e-02, -1.59809202e-01,  4.00283486e-01,  3.83541107e-01,\n",
       "        3.82338464e-02, -4.20142226e-02,  9.75709483e-02, -3.20191473e-01,\n",
       "       -7.61035606e-02,  5.13758898e-01, -1.94230918e-02,  1.27912864e-01,\n",
       "       -2.48777628e-01, -1.44119084e-01, -1.84532762e-01, -1.24386914e-01,\n",
       "       -2.52495617e-01, -3.17022540e-02,  1.41293034e-01, -2.69891527e-02,\n",
       "        1.87935114e-01, -4.65710796e-02,  1.52298495e-01,  4.18338738e-03,\n",
       "       -1.73256353e-01,  1.44794816e-02, -1.84813246e-01,  3.25336643e-02,\n",
       "        1.63093761e-01, -6.93799019e-01, -5.08285820e-01, -9.99792665e-03,\n",
       "       -1.80808082e-01,  3.00301075e-01, -6.21084630e-01,  2.12086126e-01],\n",
       "      dtype=float32)"
      ]
     },
     "execution_count": 41,
     "metadata": {},
     "output_type": "execute_result"
    }
   ],
   "source": [
    "%%time\n",
    "sentence_embeddings = model.encode(sentences, convert_to_tensor=False)\n",
    "document_embedding = np.mean(sentence_embeddings, axis=0)\n",
    "document_embedding"
   ]
  },
  {
   "cell_type": "code",
   "execution_count": 21,
   "metadata": {
    "pycharm": {
     "name": "#%%\n"
    }
   },
   "outputs": [
    {
     "name": "stdout",
     "output_type": "stream",
     "text": [
      "CPU times: user 55.6 s, sys: 619 ms, total: 56.2 s\n",
      "Wall time: 4.65 s\n"
     ]
    },
    {
     "data": {
      "text/plain": [
       "tensor([[-0.2182,  0.9161,  0.6241,  ..., -0.1870, -0.0754,  0.4477],\n",
       "        [ 0.3327,  0.4051,  1.0339,  ...,  0.5209, -0.0911,  0.1146],\n",
       "        [ 0.3648,  0.6245,  0.4467,  ...,  0.3426, -1.2798,  0.4257],\n",
       "        ...,\n",
       "        [-0.1287,  0.4577,  0.9480,  ...,  0.8484, -0.9659,  0.0572],\n",
       "        [-0.3768,  0.6009,  0.2132,  ..., -0.2803, -0.6714,  0.0545],\n",
       "        [-0.2823,  0.6130,  0.6167,  ..., -0.1095,  0.7224,  0.0582]])"
      ]
     },
     "execution_count": 21,
     "metadata": {},
     "output_type": "execute_result"
    }
   ],
   "source": [
    "%%time\n",
    "#Compute embedding for both lists\n",
    "embeddings = model.encode(sentences, convert_to_tensor=True)\n",
    "embeddings"
   ]
  },
  {
   "cell_type": "code",
   "execution_count": 22,
   "metadata": {},
   "outputs": [
    {
     "name": "stdout",
     "output_type": "stream",
     "text": [
      "CPU times: user 5.25 ms, sys: 7.85 ms, total: 13.1 ms\n",
      "Wall time: 3.37 ms\n"
     ]
    },
    {
     "data": {
      "text/plain": [
       "tensor([[1.0000, 0.6355, 0.3567, 0.3815, 0.6680, 0.1293, 0.1690, 0.2635, 0.6317,\n",
       "         0.4324, 0.3361, 0.7097, 0.5242, 0.3436, 0.5183, 0.4017, 0.4791, 0.2450,\n",
       "         0.3860, 0.3609, 0.3296, 0.1138, 0.4443, 0.6126],\n",
       "        [0.6355, 1.0000, 0.2987, 0.4078, 0.5720, 0.0523, 0.0997, 0.1749, 0.4853,\n",
       "         0.2504, 0.2321, 0.6739, 0.5604, 0.2704, 0.5278, 0.2966, 0.3724, 0.2294,\n",
       "         0.3292, 0.4764, 0.2897, 0.1366, 0.4493, 0.6984],\n",
       "        [0.3567, 0.2987, 1.0000, 0.3897, 0.5068, 0.3724, 0.3644, 0.6878, 0.3966,\n",
       "         0.6686, 0.5446, 0.5497, 0.4858, 0.4481, 0.4125, 0.3645, 0.5129, 0.4895,\n",
       "         0.5520, 0.3741, 0.5321, 0.5324, 0.3218, 0.0720],\n",
       "        [0.3815, 0.4078, 0.3897, 1.0000, 0.5230, 0.2164, 0.3269, 0.3148, 0.4569,\n",
       "         0.4455, 0.3475, 0.5181, 0.7885, 0.3613, 0.3974, 0.2851, 0.3668, 0.4197,\n",
       "         0.3888, 0.6255, 0.2453, 0.4414, 0.7772, 0.2406],\n",
       "        [0.6680, 0.5720, 0.5068, 0.5230, 1.0000, 0.3340, 0.2267, 0.3172, 0.5798,\n",
       "         0.5189, 0.3802, 0.7760, 0.6042, 0.4119, 0.6134, 0.4352, 0.6466, 0.2953,\n",
       "         0.4029, 0.5089, 0.2529, 0.2473, 0.5513, 0.3883],\n",
       "        [0.1293, 0.0523, 0.3724, 0.2164, 0.3340, 1.0000, 0.3541, 0.5685, 0.3282,\n",
       "         0.5303, 0.3231, 0.2176, 0.2130, 0.2406, 0.1244, 0.4295, 0.3687, 0.4057,\n",
       "         0.3368, 0.3358, 0.1607, 0.4330, 0.1232, 0.0513],\n",
       "        [0.1690, 0.0997, 0.3644, 0.3269, 0.2267, 0.3541, 1.0000, 0.5717, 0.5225,\n",
       "         0.5800, 0.3068, 0.2822, 0.1980, 0.1236, 0.0051, 0.1040, 0.1615, 0.2965,\n",
       "         0.1976, 0.2549, 0.4418, 0.5045, 0.3075, 0.0940],\n",
       "        [0.2635, 0.1749, 0.6878, 0.3148, 0.3172, 0.5685, 0.5717, 1.0000, 0.4891,\n",
       "         0.8309, 0.4500, 0.4104, 0.3589, 0.4040, 0.2139, 0.3420, 0.3873, 0.6120,\n",
       "         0.5019, 0.3115, 0.5016, 0.7238, 0.2542, 0.0820],\n",
       "        [0.6317, 0.4853, 0.3966, 0.4569, 0.5798, 0.3282, 0.5225, 0.4891, 1.0000,\n",
       "         0.5716, 0.3053, 0.5334, 0.4105, 0.2905, 0.2951, 0.2832, 0.4399, 0.4286,\n",
       "         0.4186, 0.3216, 0.4778, 0.4639, 0.3437, 0.6320],\n",
       "        [0.4324, 0.2504, 0.6686, 0.4455, 0.5189, 0.5303, 0.5800, 0.8309, 0.5716,\n",
       "         1.0000, 0.4397, 0.5394, 0.4809, 0.4357, 0.3169, 0.4089, 0.5267, 0.6328,\n",
       "         0.4926, 0.3628, 0.4381, 0.6378, 0.4068, 0.1539],\n",
       "        [0.3361, 0.2321, 0.5446, 0.3475, 0.3802, 0.3231, 0.3068, 0.4500, 0.3053,\n",
       "         0.4397, 1.0000, 0.4375, 0.3419, 0.4445, 0.3733, 0.7176, 0.4498, 0.4078,\n",
       "         0.5797, 0.4213, 0.3559, 0.3848, 0.3034, 0.0883],\n",
       "        [0.7097, 0.6739, 0.5497, 0.5181, 0.7760, 0.2176, 0.2822, 0.4104, 0.5334,\n",
       "         0.5394, 0.4375, 1.0000, 0.6525, 0.4629, 0.6929, 0.4475, 0.5853, 0.3658,\n",
       "         0.4445, 0.6150, 0.4069, 0.2510, 0.6111, 0.3843],\n",
       "        [0.5242, 0.5604, 0.4858, 0.7885, 0.6042, 0.2130, 0.1980, 0.3589, 0.4105,\n",
       "         0.4809, 0.3419, 0.6525, 1.0000, 0.4355, 0.5831, 0.2920, 0.3894, 0.4122,\n",
       "         0.3827, 0.6251, 0.2448, 0.3411, 0.8063, 0.2805],\n",
       "        [0.3436, 0.2704, 0.4481, 0.3613, 0.4119, 0.2406, 0.1236, 0.4040, 0.2905,\n",
       "         0.4357, 0.4445, 0.4629, 0.4355, 1.0000, 0.7007, 0.5343, 0.5933, 0.4667,\n",
       "         0.6527, 0.2277, 0.2044, 0.4394, 0.4014, 0.1105],\n",
       "        [0.5183, 0.5278, 0.4125, 0.3974, 0.6134, 0.1244, 0.0051, 0.2139, 0.2951,\n",
       "         0.3169, 0.3733, 0.6929, 0.5831, 0.7007, 1.0000, 0.4480, 0.6024, 0.2942,\n",
       "         0.4743, 0.3868, 0.2509, 0.1569, 0.5384, 0.2155],\n",
       "        [0.4017, 0.2966, 0.3645, 0.2851, 0.4352, 0.4295, 0.1040, 0.3420, 0.2832,\n",
       "         0.4089, 0.7176, 0.4475, 0.2920, 0.5343, 0.4480, 1.0000, 0.5992, 0.4024,\n",
       "         0.6723, 0.3949, 0.2307, 0.3001, 0.2288, 0.1786],\n",
       "        [0.4791, 0.3724, 0.5129, 0.3668, 0.6466, 0.3687, 0.1615, 0.3873, 0.4399,\n",
       "         0.5267, 0.4498, 0.5853, 0.3894, 0.5933, 0.6024, 0.5992, 1.0000, 0.4577,\n",
       "         0.6571, 0.3510, 0.2854, 0.3129, 0.3373, 0.2238],\n",
       "        [0.2450, 0.2294, 0.4895, 0.4197, 0.2953, 0.4057, 0.2965, 0.6120, 0.4286,\n",
       "         0.6328, 0.4078, 0.3658, 0.4122, 0.4667, 0.2942, 0.4024, 0.4577, 1.0000,\n",
       "         0.6331, 0.2634, 0.3955, 0.7345, 0.3077, 0.1483],\n",
       "        [0.3860, 0.3292, 0.5520, 0.3888, 0.4029, 0.3368, 0.1976, 0.5019, 0.4186,\n",
       "         0.4926, 0.5797, 0.4445, 0.3827, 0.6527, 0.4743, 0.6723, 0.6571, 0.6331,\n",
       "         1.0000, 0.2819, 0.3844, 0.5336, 0.2626, 0.2466],\n",
       "        [0.3609, 0.4764, 0.3741, 0.6255, 0.5089, 0.3358, 0.2549, 0.3115, 0.3216,\n",
       "         0.3628, 0.4213, 0.6150, 0.6251, 0.2277, 0.3868, 0.3949, 0.3510, 0.2634,\n",
       "         0.2819, 1.0000, 0.3015, 0.2825, 0.5692, 0.2037],\n",
       "        [0.3296, 0.2897, 0.5321, 0.2453, 0.2529, 0.1607, 0.4418, 0.5016, 0.4778,\n",
       "         0.4381, 0.3559, 0.4069, 0.2448, 0.2044, 0.2509, 0.2307, 0.2854, 0.3955,\n",
       "         0.3844, 0.3015, 1.0000, 0.4725, 0.2096, 0.1546],\n",
       "        [0.1138, 0.1366, 0.5324, 0.4414, 0.2473, 0.4330, 0.5045, 0.7238, 0.4639,\n",
       "         0.6378, 0.3848, 0.2510, 0.3411, 0.4394, 0.1569, 0.3001, 0.3129, 0.7345,\n",
       "         0.5336, 0.2825, 0.4725, 1.0000, 0.2619, 0.0253],\n",
       "        [0.4443, 0.4493, 0.3218, 0.7772, 0.5513, 0.1232, 0.3075, 0.2542, 0.3437,\n",
       "         0.4068, 0.3034, 0.6111, 0.8063, 0.4014, 0.5384, 0.2288, 0.3373, 0.3077,\n",
       "         0.2626, 0.5692, 0.2096, 0.2619, 1.0000, 0.2353],\n",
       "        [0.6126, 0.6984, 0.0720, 0.2406, 0.3883, 0.0513, 0.0940, 0.0820, 0.6320,\n",
       "         0.1539, 0.0883, 0.3843, 0.2805, 0.1105, 0.2155, 0.1786, 0.2238, 0.1483,\n",
       "         0.2466, 0.2037, 0.1546, 0.0253, 0.2353, 1.0000]])"
      ]
     },
     "execution_count": 22,
     "metadata": {},
     "output_type": "execute_result"
    }
   ],
   "source": [
    "%%time\n",
    "#Compute cosine-similarities for each sentence with each other sentence\n",
    "cosine_scores = util.pytorch_cos_sim(embeddings, embeddings)\n",
    "cosine_scores"
   ]
  },
  {
   "cell_type": "code",
   "execution_count": 37,
   "metadata": {},
   "outputs": [
    {
     "name": "stdout",
     "output_type": "stream",
     "text": [
      "Number of pairs: 276\n",
      "Average score: 0.16329775750637054\n",
      "\n",
      "\n",
      "Der Amtsgerichtspräsident lehnte das Gesuch der Klägerin um definitive Rechtsöffnung ab .\n",
      "Der Verordnungsgeber hat im Zusammenhang mit den Beiträgen an Bau , Betriebs und Unterhaltskosten eines öffentlichen Werkes von Genossenschaften ausdrücklich auch die allgemeinen Verfahrensvorschriften ( u. a. Beitragsverfügung und Rechtsmittel : § 24 PV ) als anwendbar erklärt ( § 27 PV ) .\n",
      "=> Score: 0.0051\n",
      "\n",
      "\n",
      "====================================================================================================\n",
      "\n",
      "\n",
      "Dass diese Mängel anderweitig behoben worden sind , wird von der Klägerin nicht dargetan und ist den Akten auch nicht zu entnehmen .\n",
      "80 Abs. 2 SchKG verneint und das klägerische Gesuch abgewiesen .\n",
      "=> Score: 0.0253\n",
      "\n",
      "\n",
      "====================================================================================================\n",
      "\n",
      "\n",
      "Nachdem dieser die Forderung nicht bezahlte , liess ihn die Klägerin betreiben .\n",
      "80 Abs. 2 SchKG verneint und das klägerische Gesuch abgewiesen .\n",
      "=> Score: 0.0513\n",
      "\n",
      "\n",
      "====================================================================================================\n",
      "\n",
      "\n",
      "80 Abs. 2 SchKG ; § 110 Abs. 1 lit. e VRG ; §§ 18 , 24 , 27 und 28 Perimeterverordnung ( SRL Nr. 732 ) .\n",
      "Nachdem dieser die Forderung nicht bezahlte , liess ihn die Klägerin betreiben .\n",
      "=> Score: 0.0523\n",
      "\n",
      "\n",
      "====================================================================================================\n",
      "\n",
      "\n",
      "Eine Verfügung für Perimeterbeiträge bildet keinen definitiven Rechtsöffnungstitel , wenn sie keine Unterschrift aufweist und nicht mit einer Rechtsmittelbelehrung versehen ist .\n",
      "80 Abs. 2 SchKG verneint und das klägerische Gesuch abgewiesen .\n",
      "=> Score: 0.0720\n",
      "\n",
      "\n",
      "====================================================================================================\n",
      "\n",
      "\n",
      "Er war zum Schluss gekommen , der Beklagte sei in der Beitragsverfügung nicht auf sein Einspracherecht hingewiesen worden , weshalb die Beitragsverfügung mangels korrekter Eröffnung nicht in Rechtskraft erwachsen sei .\n",
      "80 Abs. 2 SchKG verneint und das klägerische Gesuch abgewiesen .\n",
      "=> Score: 0.0820\n",
      "\n",
      "\n",
      "====================================================================================================\n",
      "\n",
      "\n",
      "Es könne nicht die Meinung des Gesetzgebers sein , dass für alljährlich wiederkehrende Beiträge , die sich jährlich je nach Bedarf ändern könnten , rechtliche Beitragsverfügungen erlassen werden müssten .\n",
      "80 Abs. 2 SchKG verneint und das klägerische Gesuch abgewiesen .\n",
      "=> Score: 0.0883\n",
      "\n",
      "\n",
      "====================================================================================================\n",
      "\n",
      "\n",
      "Der Amtsgerichtspräsident lehnte das Gesuch der Klägerin um definitive Rechtsöffnung ab .\n",
      "80 Abs. 2 SchKG verneint und das klägerische Gesuch abgewiesen .\n",
      "=> Score: 0.0940\n",
      "\n",
      "\n",
      "====================================================================================================\n",
      "\n",
      "\n",
      "80 Abs. 2 SchKG ; § 110 Abs. 1 lit. e VRG ; §§ 18 , 24 , 27 und 28 Perimeterverordnung ( SRL Nr. 732 ) .\n",
      "Der Amtsgerichtspräsident lehnte das Gesuch der Klägerin um definitive Rechtsöffnung ab .\n",
      "=> Score: 0.0997\n",
      "\n",
      "\n",
      "====================================================================================================\n",
      "\n",
      "\n",
      "Der Amtsgerichtspräsident lehnte das Gesuch der Klägerin um definitive Rechtsöffnung ab .\n",
      "Wie die Klägerin selber ausführt , handelt es sich bei den Beiträgen an die Unterhaltskosten um jährlich wiederkehrende Zahlungen , die nicht ein für allemal feststehen , sondern sich je nach Bedarf ändern können .\n",
      "=> Score: 0.1040\n",
      "\n",
      "\n",
      "====================================================================================================\n"
     ]
    }
   ],
   "source": [
    "#Find the pairs with the highest cosine similarity scores\n",
    "pairs = []\n",
    "for i in range(len(cosine_scores)-1):\n",
    "    for j in range(i+1, len(cosine_scores)):\n",
    "        pairs.append({'index': [i, j], 'score': cosine_scores[i][j]})\n",
    "\n",
    "#Sort scores in decreasing order\n",
    "pairs = sorted(pairs, key=lambda x: x['score'], reverse=False)\n",
    "\n",
    "\n",
    "print(f\"Number of pairs: {len(pairs)}\")\n",
    "print(f\"Average score: {np.std([x['score'] for x in pairs])}\")\n",
    "\n",
    "for pair in pairs[0:10]:\n",
    "    i, j = pair['index']\n",
    "    print(\"\\n\")\n",
    "    print(sentences[i])\n",
    "    print(sentences[j])\n",
    "    print(f\"=> Score: {pair['score']:.4f}\")\n",
    "    print(\"\\n\")\n",
    "    print(\"=\"*100)"
   ]
  }
 ],
 "metadata": {
  "kernelspec": {
   "display_name": "Python 3",
   "language": "python",
   "name": "python3"
  },
  "language_info": {
   "codemirror_mode": {
    "name": "ipython",
    "version": 3
   },
   "file_extension": ".py",
   "mimetype": "text/x-python",
   "name": "python",
   "nbconvert_exporter": "python",
   "pygments_lexer": "ipython3",
   "version": "3.8.5"
  }
 },
 "nbformat": 4,
 "nbformat_minor": 1
}
